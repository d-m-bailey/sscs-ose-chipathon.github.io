{
  "nbformat": 4,
  "nbformat_minor": 0,
  "metadata": {
    "colab": {
      "provenance": [],
      "toc_visible": true,
      "mount_file_id": "1hcMNj556suhe3ZjzAirlSR2mh6JC5Lkg",
      "authorship_tag": "ABX9TyOUgeAHopJTbBjnz9QOgc6B",
      "include_colab_link": true
    },
    "kernelspec": {
      "name": "python3",
      "display_name": "Python 3"
    },
    "language_info": {
      "name": "python"
    }
  },
  "cells": [
    {
      "cell_type": "markdown",
      "metadata": {
        "id": "view-in-github",
        "colab_type": "text"
      },
      "source": [
        "<a href=\"https://colab.research.google.com/github/Deni-Alves/sscs-ose-chipathon.github.io/blob/main/Proposal_of_Analog_blocks_.ipynb\" target=\"_parent\"><img src=\"https://colab.research.google.com/assets/colab-badge.svg\" alt=\"Open In Colab\"/></a>"
      ]
    },
    {
      "cell_type": "markdown",
      "source": [
        "```\n",
        "LCI-UFSC Team, May 2023\n",
        "SPDX-License-Identifier: Apache-2.0\n",
        "```"
      ],
      "metadata": {
        "id": "e17xgxobwuBW"
      }
    },
    {
      "cell_type": "markdown",
      "source": [
        "|Name|Affiliation|IEEE Member|SSCS Member|\n",
        "|:--:|:----------:|:----------:|:----------:|\n",
        "|César Augusto Marcelo Albuquerque|Universidade Federal de Santa Catarina|No|No|\n",
        "|Felipe Hugo Costa de Oliveira|Universidade Federal de Santa Catarina|No|No|\n",
        "|Natanael Rissi Bertamoni|Universidade Federal de Santa Catarina|No|No|\n",
        "|Rodrigo Dario Martinez|Universidade Federal de Santa Catarina|No|No|\n",
        "|Thiago Henrique Santos|Universidade Federal de Santa Catarina|No|No|\n",
        "|Gabriel Maranhão (Lead) <br /> Email ID: gabrielmaranhao10@gmail.com|Universidade Federal de Santa Catarina|No|No|\n",
        "|Deni Germano Alves Neto (Lead) <br /> Email ID: denialves77@gmail.com|Universidade Federal de Santa Catarina|Yes|Yes|"
      ],
      "metadata": {
        "id": "YxRep5REwxWK"
      }
    },
    {
      "cell_type": "markdown",
      "source": [
        "**_Index Terms:_** analog circuits, current reference, current sensing, voltage reference, oscillator, open source."
      ],
      "metadata": {
        "id": "gOulS4ll9Lkd"
      }
    },
    {
      "cell_type": "markdown",
      "source": [
        "# Proposal\n",
        "As mentioned in the call for this contest, the goal is to bring together the open IC community, so our proposal focuses on the design of analog blocks (current reference, clock generator, voltage reference, and current sensing) which are used in different parts of the Lab Bench on a Chip and also can be co-designed together with other teams.\n",
        "\n",
        "The following sections of this document present the initial four blocks of our proposal."
      ],
      "metadata": {
        "id": "3y5iJZ41-HVq"
      }
    },
    {
      "cell_type": "markdown",
      "source": [
        "# Current reference\n",
        "\n",
        "All integrated circuits are limited by their reference voltage and/or current. \n",
        "A CMOS-only current source process variability is a function of only its active components. A conventional gm-constant self-biased current source uses integrated resistors, which can be very large for very low current consumption. Besides that, the integrated resistor creates another process variability independent variable besides the active components.\n",
        "\n",
        "The proposed self-biased current source is based on the topology in [1].\n",
        "\n",
        "The design of the self-biased current source (SBCS) shown in the following figure, for an output current $I_{OUT} = 100 \\ nA$ and supply voltage $V_{DD}= 3.3 \\ V$, can be based on the ACM model.\n",
        "\n",
        "![SBCS](https://drive.google.com/uc?export=view&id=1MBaFvslz6ac8PgRYfryJz0LHG_qhTn13)\n",
        "\n",
        "The core of the SBCS is the self-cascode MOSFET (SCM), composed of transistors $M_1$ and $M_2$, which operate in moderate inversion. Transistors $M_3$ and $M_4$ form the second SCM biased in weak inversion to generate a proportional to absolute temperature (PTAT) voltage $V_Y$.\n",
        "\n",
        "Transistors $M_{2(4)}$ are in saturation and $M_{1(3)}$ are in triode, therefore $I_{D2} \\cong I_{S2} i_{f2}$ and $I_{D1}=I_{S1}(i_{f1}-i_{r1} )=I_{ref}(N+1)$. Since $V_{P1}=V_{P2}=V_P$ and $V_{D1}=V_{S2}$, we have $i_{r1}= i_{f2}$.\n",
        "\n",
        "The specific current $I_S$ can also be written as $I_S=I_{SH}S$, where $I_{SH}$ is the sheet normalization current and $S$ is the aspect ratio $\\frac{W}{L}$, which combined with drain current $I_D$ yields the following relationship.\n",
        "\n",
        "\\begin{equation}\n",
        "   \\alpha_{12(34)}=\\frac{i_{f1(3)}}{i_{f2(4)}}=1+\\frac{S_{2(4)}}{S_{1(3)}}  (1+\\frac{1}{N}) \n",
        "\\end{equation}\n",
        "\n",
        "The SCM intermediate voltage $V_{X(Y)}$ relates to the inversion level through the UICM equation, which results in\n",
        "\n",
        "\\begin{equation}\n",
        "   \\frac{V_X}{\\phi_t} = \\sqrt{1+\\alpha_{12} i_{f2}}-\\sqrt{1+i_{f2}}+ln \\left(\\frac{\\sqrt{1+\\alpha_{12}i_{f2}}-1}{\\sqrt{1+i_{f2}}-1} \\right) \n",
        "\\end{equation}\n",
        "\n",
        "\\begin{equation}\n",
        "    \\frac{V_Y}{\\phi_t}=\\ln{\\alpha_{34}}\n",
        "\\end{equation}\n",
        "\n",
        "To simplify the design we chose $i_{f2}=15$ and $S_1=S_2$, which results in $\\alpha_{12}=3$. From this starting point, it suffices to extract the sheet normalization current of $M_2$ and use the drain current to determine the aspect ratio. Once $V_X$ is determined, $\\alpha$ and the inversion levels of the other transistors can be calculated, along with their aspect ratios."
      ],
      "metadata": {
        "id": "y4WFO-5u7rUP"
      }
    },
    {
      "cell_type": "markdown",
      "source": [
        "# Oscillator\n",
        "\n",
        "This circuit generates a square wave clock signal. It's a relaxation oscillator whose topology was inspired by the NE555 timer, as shown in the schematic below.\n",
        "\n",
        "![Schematic](https://drive.google.com/uc?export=view&id=1iZOId1r9IbLMUtm2Wx9Zn-SBgA-k50za)\n",
        "\n",
        "The circuit features a latch that is driven by pair of voltage comparators which compare the voltage at capacitor C1 with the voltages at the terminals of resistor R1 and a reversible direction current source implemented by M1, M2, I1, and I2, which can push or pull current from the capacitor.\n",
        "\n",
        "Initially, the voltage at the capacitor C1 is zero, Which makes the voltage comparator A2 set the RS latch, turning the voltage-controlled current source (VCIS) to current sourcing, causing the voltage at C1 to rise at a fixed rate.\n",
        "\n",
        "When the voltage at C1 equals the voltage at the upper node of R1, voltage comparator A1 sets the RS. This results in the current direction at the VCIS changing from source to sink, causing the C1 voltage to decrease constantly.\n",
        "\n",
        "Once the voltage at C1 reaches the voltage at the lower terminal of R1, voltage comparator A2 resets the RS latch, causing the current direction at the VCIS to change from sink to source making the voltage at C1 rise at a constant rate, which completes the oscillation cycle.\n",
        "\n",
        "![Schematic](https://drive.google.com/uc?export=view&id=1FFKNgAxyMhgCn8l1KZqXcaNmebnovBl5)\n",
        "\n",
        "Due to the circuit's working principle, the oscillation period is defined by the voltage ($V_r$) drop across $R_1$ and the voltage variation rate at $C_1$, as given by the following expression:\n",
        "\n",
        "\\begin{equation}\n",
        "    t = 2\\frac{Vr}{\\left(\\frac{dVc}{dt}\\right)}\n",
        "\\end{equation}\n",
        "\n",
        "However, the voltage drop Vr is given by:\n",
        "\n",
        "$$Vr = Iref\\times R1$$\n",
        "\n",
        "And the absolute voltage variation rate in C1 is given by:\n",
        "$$\\left| \\frac{dVc}{dt} \\right| = \\frac{Iref}{C1}$$\n",
        "\n",
        "So the Period t can be given by:\n",
        "\\begin{equation}\n",
        "    t = 2\\frac{Vr}{\\left|\\frac{dVc}{dt}\\right|} = 2\\frac{Iref\\times R1}{\\frac{Iref}{C1}} = 2\\times R1\\times C1\n",
        "\\end{equation}\n",
        "This expression may not perfectly describe the reality, especially for higher frequencies, since the time between the moment when the voltage in the capacitor reaches any of the transition points and the moment when the current source inverts its direction is not zero, primarily due to limitations in the voltage comparators, and also due to non-idealities in the current sources, which implies in a deviation from the expected behavior (to a lower frequency).\n",
        "\n",
        "This version of the circuit was implemented using the following components:\n",
        "$$R1 = 500k\\Omega$$\n",
        "$$C1 = 800fF$$\n",
        "According to the period equation, this would mean an oscillation at 1.25MHz. Due to the effects mentioned in the previous session, the frequency obtained was lower, around 1MHz, as shown in the following figure.\n",
        "\n",
        "\n",
        "![Schematic](https://drive.google.com/uc?export=view&id=1OcPhP4iwiJSQJ2toDRe-C_NkwS-7SweX)\n",
        "\n",
        "This circuit works almost as expected by a first analysis.\n",
        "It works pretty well for lower frequencies and follows the expression for frequency $f=\\frac{1}{2RC}$. However, even though it still works fine for higher frequencies, its operation frequency deviates a bit from the expected due to a few limitations.\n",
        "\n",
        "The circuit was simulated in https://colab.research.google.com/drive/1Xv1jwjLwj1OsanojZm1N6niMxYUNNy_Q\n",
        "\n",
        "This circuit needs to be fully mature and, therefore, still has room for improvement.\n",
        "\n",
        "[1] BAKER, R Jacob. CMOS circuit design, layout and simulation. 2nd. ed.\n",
        "\n",
        "[2] OLMOS, A. A Temperature Compensated Fully Trimmable On-Chip IC Oscillator, Jaguariúna. Brazil. 2003\n"
      ],
      "metadata": {
        "id": "47Z4L9Udp9bl"
      }
    },
    {
      "cell_type": "markdown",
      "source": [
        "# Voltage Reference\n",
        "\n",
        "We propose the development of two voltage reference circuits for the voltage reference stage. The first circuit will be an LDO (Low Drop Out) aiming to achieve specifications similar to the ADR3412ARJZ, a voltage regulator that can provide 1.2V at the output. A second circuit will be developed to provide a 600mV reference for the LDO.\n",
        "\n",
        "The proposed LDO has a stable output voltage and can provide up to 50mA of current, with a maximum dropout of 200mV. It has a maximum quiescent current of only 65uA and exhibits a PSRR (Power Supply Rejection Ratio) of approximately -45 dB up to 10kHz. The following figure shows the transistor-level schematic of the LDO.\n",
        "\n",
        "![LDO](https://drive.google.com/uc?export=view&id=1Unld-leRiaYoTsrmlPahgmZmdSzGwSik)\n",
        "\n",
        "The proposed second regulator consumes only 91nW, has a PSRR of -74dB at 100Hz, and has a line regulation of 0.02%/V. Both circuits exhibit robustness regarding power supply voltage and temperature variations. The LDO can operate in a temperature range from -40°C to 80°C, while the second regulator maintains its stability with a supply voltage in the range of 1.3V to 2.8V and temperatures ranging from -40°C to 125°C.\n",
        "\n",
        "![LDO](https://drive.google.com/uc?export=view&id=1CclCxHtALcbV4jsQsBCip0bH-n4AWZ0H)\n",
        "\n",
        "The challenge for the project will be to use a topology similar to the references and achieve the specifications of the ADR3412ARJZ, such as providing 1.2V at the output of the LDO and achieving a temperature coefficient (TC) of 8ppm/°C in the second regulator, which currently exhibits a TC of 13ppm/°C. The output voltage of the second regulator is 576mV, and we aim to achieve an output voltage of 600mV.\n",
        "\n",
        "[1] Chang, S., Chen, Y., & Huang, T. (2013). A robust low-voltage on-chip LDO voltage regulator in 180 nm. IEEE Transactions on Very Large Scale Integration (VLSI) Systems, 21(10), 1817-1821. doi: 10.1109/TVLSI.2012.2227400.\n",
        "\n",
        "[2] Milliken, R.J., Silva-Martínez, J., & Sánchez-Sinencio, E. (2005). Full On-Chip CMOS Low-Dropout Voltage Regulator. IEEE Transactions on Circuits and Systems II: Express Briefs, 52(9), 528-531. doi: 10.1109/TCSII.2005.852778"
      ],
      "metadata": {
        "id": "BFEwquR88uq2"
      }
    },
    {
      "cell_type": "markdown",
      "source": [
        "# Current Sensing\n",
        "\n",
        "Current measurement capabilities are expected to design a lab bench on a chip. We propose a solution using an amplifier stage and pseudo-resistors for the feedback loop.\n",
        "\n",
        "The main components of this implementation are a folded cascode amplifier, two pseudo resistors of different values, represented by $R_{p1}$ and $R_{p2}$, and the representation of the circuit in which the current is being measured, represented by the current source, capacitor $C_p$ and resistor $R_i$. The block diagram is depicted in the figure below.\n",
        "\n",
        "\n",
        "![Schematic_currentmeas](https://drive.google.com/uc?export=view&id=16eEr7i1wxji-D6Y6Xh7oHu4icrSjrD12)\n",
        "\n",
        "\n",
        "The amplifier takes the voltage value in the non-inverting input and generates a current output which is divided into feedback through $R_{p1}$ and into a voltage level through $R_{p2}$. Thus taking a current and turning it into a proportional voltage value at the exit stage of the amplifier.\n",
        "\n",
        "For this implementation, the pseudo-resistor will be able to compensate for temperature variations, providing a proportional voltage across the expected operating temperatures.\n",
        "\n",
        "The initial implementation for the folded cascode amplifier can be seen in the following figure.\n",
        "\n",
        "![Schematic_currentmeas_transistorlevel](https://drive.google.com/uc?export=view&id=1MrGZvTe6VWLF6vclrOAuP94n39Hv9kSf)\n",
        "\n",
        "\n",
        "The desired specifications for the current sensing circuit are as follows:\n",
        "\n",
        "\\begin{array}{ccc} \\hline\n",
        "\\textbf{Parameter} & \\textbf{Value} & \\textbf{Unit} \\\\ \\hline\n",
        "Current \\space  Drawn    &  10         &     mA   \\\\ \n",
        "Measurement \\space  range    &  00.01 - 100         &    \\mu A  \\\\ \n",
        "Maximum \\space  Output \\space  Variation    &  10        &    \\mu A  \\\\ \n",
        "\\hline\n",
        "\\end{array}\n",
        "\n",
        "The maximum output variation represents how much the output voltage can vary when the temperature ranges between -40 to 120 Celsius.\n",
        "\n"
      ],
      "metadata": {
        "id": "GdF3RzWZO9N2"
      }
    },
    {
      "cell_type": "markdown",
      "source": [
        "\n",
        "\n",
        "\n",
        "# Next Steps\n",
        "\n",
        " Design the analog blocks on the GF MCU 180nm PDK using the colab open source tools. Tuning the design and running simulations to fulfill targeted specifications."
      ],
      "metadata": {
        "id": "PWdiqdNyAqjT"
      }
    }
  ]
}
